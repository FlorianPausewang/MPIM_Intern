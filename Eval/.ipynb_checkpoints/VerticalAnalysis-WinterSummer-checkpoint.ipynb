{
 "cells": [
  {
   "cell_type": "markdown",
   "id": "6dd06476-40e7-4f4a-b18e-6eeba4d13c12",
   "metadata": {
    "tags": []
   },
   "source": [
    "# Vertical analzsis of Temperature T, Relative Humidity RH and their changes DT and DRH\n",
    "\n",
    "For the T and RH Plots the used timeframe is from 2010-2020,\n",
    "\n",
    "For the DT and DRH Plots the difference between the period 2010-2020 and 1980-1990 is  displayed.\n"
   ]
  },
  {
   "cell_type": "code",
   "execution_count": 1,
   "id": "c51a2204-95f9-4301-8869-9f26e7e41e3f",
   "metadata": {
    "tags": []
   },
   "outputs": [],
   "source": [
    "import os\n",
    "\n",
    "\n",
    "# load stuff:\n",
    "from dataload_helper import Dataset\n",
    "from dataeval_helper import *  # load here also numpy, scipy,...\n",
    "from global_params import *\n",
    "\n",
    "#import cartopy.crs as ccrs\n",
    "\n",
    "from xhistogram.xarray import histogram"
   ]
  },
  {
   "cell_type": "code",
   "execution_count": 2,
   "id": "f9e341f9-66bd-4457-b083-70de86648df6",
   "metadata": {
    "tags": []
   },
   "outputs": [
    {
     "name": "stdout",
     "output_type": "stream",
     "text": [
      "True\n"
     ]
    }
   ],
   "source": [
    "#load Datasets\n",
    "#SETNAME=\"MERRA2\"\n",
    "SETNAME=\"JRA-55\"\n",
    "#Global Params\n",
    "\n",
    "if SETNAME==\"MERRA2\":\n",
    "    FILES=\"../../../../../../work/mh0066/m301053/Data/MERRA2_instM_3d_asm_Np_PS,RH,T/MERRA2_*\"\n",
    "    RESLOC = '../Results/'\n",
    "    RESLOC_SPECIFIC = 'MERRA2_RH/'\n",
    "    DATALOC_SPECIFIC = '/MERRA2_instM_3d_asm_Np_PS,RH,T/'\n",
    "    DATALOC = '../../../../../../work/mh0066/m301053/Data' + DATALOC_SPECIFIC\n",
    "    \n",
    "elif SETNAME==\"JRA-55\":\n",
    "    FILES=\"../../../../../../work/mh0066/m301053/Data/JRA-55_Monthly_1.25_Deg_isobaric/anl*\"\n",
    "    RESLOC = '../VerticalAnalysis/'\n",
    "    RESLOC_SPECIFIC = ''\n",
    "    DATALOC_SPECIFIC = '/JRA-55_Monthly_1.25_Deg_isobaric/'\n",
    "    DATALOC = '../../../../../../work/mh0066/m301053/Data' + DATALOC_SPECIFIC\n",
    "else:\n",
    "    raise Exception(\"Sorry, notexisting Setname\")\n",
    "\n",
    "INT_RES_Specific = SETNAME + '/'\n",
    "INT_RES='../Interim_Results/VerticalAnalysis_LandOcean/' + INT_RES_Specific\n",
    "#What parts of the Notebook should run?\n",
    "TOPOANALYSIS=True\n",
    "\n",
    "MASKELEVATION=True\n",
    "SURFACEVALUES=True\n",
    "\n",
    "\n",
    "t1_start='1980-01-01'\n",
    "t1_end='1989-12-01'\n",
    "t2_start='2010-01-01'\n",
    "t2_end='2019-12-01'\n",
    "\n",
    "print(os.path.isdir(INT_RES))"
   ]
  },
  {
   "cell_type": "code",
   "execution_count": 3,
   "id": "10fe1316-5c3f-4a1f-911d-4d7a71925130",
   "metadata": {
    "tags": []
   },
   "outputs": [
    {
     "name": "stdout",
     "output_type": "stream",
     "text": [
      "Loading full dataset JRA-55\n",
      "[########################################] | 100% Completed | 6.51 ss\n",
      "<xarray.Dataset>\n",
      "Dimensions:  (time: 504, lon: 288, lat: 145, p: 37)\n",
      "Coordinates:\n",
      "  * time     (time) datetime64[ns] 1979-01-01 1979-02-01 ... 2020-12-01\n",
      "  * lon      (lon) float64 -180.0 -178.8 -177.5 -176.2 ... 176.2 177.5 178.8\n",
      "  * lat      (lat) float64 -90.0 -88.75 -87.5 -86.25 ... 86.25 87.5 88.75 90.0\n",
      "  * p        (p) float64 1e+03 975.0 950.0 925.0 900.0 ... 7.0 5.0 3.0 2.0 1.0\n",
      "Data variables:\n",
      "    RH       (time, p, lat, lon) float32 dask.array<chunksize=(12, 37, 145, 288), meta=np.ndarray>\n",
      "    T        (time, p, lat, lon) float32 dask.array<chunksize=(12, 37, 145, 288), meta=np.ndarray>\n",
      "Attributes:\n",
      "    CDI:          Climate Data Interface version 2.2.1 (https://mpimet.mpg.de...\n",
      "    Conventions:  CF-1.6\n",
      "    history:      Mon Jul 03 15:11:16 2023: cdo -f nc --eccodes copy anl_p125...\n",
      "    CDO:          Climate Data Operators version 2.2.0 (https://mpimet.mpg.de...\n"
     ]
    }
   ],
   "source": [
    "DS = Dataset(files=FILES, setname = SETNAME, dataloc = DATALOC)"
   ]
  },
  {
   "cell_type": "code",
   "execution_count": 4,
   "id": "102a44ea-5e4d-44bf-9072-fd148d356f38",
   "metadata": {
    "tags": []
   },
   "outputs": [
    {
     "name": "stdout",
     "output_type": "stream",
     "text": [
      "Loading full dataset JRA-55_2D\n",
      "[########################################] | 100% Completed | 1.00 ss\n",
      "<xarray.Dataset>\n",
      "Dimensions:  (time: 480, lon: 288, lat: 145)\n",
      "Coordinates:\n",
      "  * time     (time) datetime64[ns] 1980-01-01 1980-02-01 ... 2019-12-01\n",
      "  * lon      (lon) float64 -180.0 -178.8 -177.5 -176.2 ... 176.2 177.5 178.8\n",
      "  * lat      (lat) float64 -90.0 -88.75 -87.5 -86.25 ... 86.25 87.5 88.75 90.0\n",
      "Data variables:\n",
      "    SP       (time, lat, lon) float32 dask.array<chunksize=(480, 145, 288), meta=np.ndarray>\n",
      "Attributes:\n",
      "    CDI:          Climate Data Interface version 2.0.6 (https://mpimet.mpg.de...\n",
      "    Conventions:  CF-1.6\n",
      "    history:      Tue Jul 11 15:58:11 2023: cdo -f nc --eccodes copy anl_surf...\n",
      "    CDO:          Climate Data Operators version 2.0.6 (https://mpimet.mpg.de...\n",
      "<xarray.Dataset>\n",
      "Dimensions:  (time: 480, p: 37, lat: 145, lon: 288)\n",
      "Coordinates:\n",
      "  * time     (time) datetime64[ns] 1980-01-01 1980-02-01 ... 2019-12-01\n",
      "  * lon      (lon) float64 -180.0 -178.8 -177.5 -176.2 ... 176.2 177.5 178.8\n",
      "  * lat      (lat) float64 -90.0 -88.75 -87.5 -86.25 ... 86.25 87.5 88.75 90.0\n",
      "  * p        (p) float64 1e+03 975.0 950.0 925.0 900.0 ... 7.0 5.0 3.0 2.0 1.0\n",
      "Data variables:\n",
      "    RH       (time, p, lat, lon) float32 dask.array<chunksize=(12, 37, 145, 288), meta=np.ndarray>\n",
      "    T        (time, p, lat, lon) float32 dask.array<chunksize=(12, 37, 145, 288), meta=np.ndarray>\n",
      "Attributes:\n",
      "    CDI:          Climate Data Interface version 2.2.1 (https://mpimet.mpg.de...\n",
      "    Conventions:  CF-1.6\n",
      "    history:      Mon Jul 03 15:11:16 2023: cdo -f nc --eccodes copy anl_p125...\n",
      "    CDO:          Climate Data Operators version 2.2.0 (https://mpimet.mpg.de...\n"
     ]
    }
   ],
   "source": [
    "if MASKELEVATION==True:\n",
    "    DS_2D = Dataset(files='../../../../../../work/mh0066/m301053/Data/JRA-55_Monthly_1.25_Deg_surface/*pres.nc', setname = 'JRA-55_2D', dataloc = '../../../../../../work/mh0066/m301053/Data/JRA-55_Monthly_1.25_Deg_surface/')\n",
    "    DS.ds = elevation2nan( DS.ds, DS_2D.ds )\n",
    "    print(DS.ds)"
   ]
  },
  {
   "cell_type": "code",
   "execution_count": 5,
   "id": "d0510c94-5493-48b7-9421-d6a2b9bd42da",
   "metadata": {
    "tags": []
   },
   "outputs": [
    {
     "name": "stdout",
     "output_type": "stream",
     "text": [
      "Loading full dataset TOPO\n",
      "[########################################] | 100% Completed | 101.07 ms\n",
      "<xarray.Dataset>\n",
      "Dimensions:  (lon: 720, lat: 360)\n",
      "Coordinates:\n",
      "  * lon      (lon) float64 -180.0 -179.5 -179.0 -178.5 ... 178.5 179.0 179.5\n",
      "  * lat      (lat) float64 -89.75 -89.25 -88.75 -88.25 ... 88.75 89.25 89.75\n",
      "Data variables:\n",
      "    topo     (lat, lon) float32 dask.array<chunksize=(360, 720), meta=np.ndarray>\n",
      "Attributes:\n",
      "    CDI:          Climate Data Interface version 2.2.1 (https://mpimet.mpg.de...\n",
      "    Conventions:  CF-1.6\n",
      "    history:      Fri May 05 16:46:47 2023: cdo -f nc topo,r720x360 topo_r720...\n",
      "    CDO:          Climate Data Operators version 2.2.0 (https://mpimet.mpg.de...\n",
      "<xarray.DataArray 'topo' (lat: 145, lon: 288)>\n",
      "dask.array<getitem, shape=(145, 288), dtype=bool, chunksize=(145, 288), chunktype=numpy.ndarray>\n",
      "Coordinates:\n",
      "  * lon      (lon) float64 -180.0 -178.8 -177.5 -176.2 ... 176.2 177.5 178.8\n",
      "  * lat      (lat) float64 -90.0 -88.75 -87.5 -86.25 ... 86.25 87.5 88.75 90.0\n"
     ]
    }
   ],
   "source": [
    "# =======================================================================\n",
    "#Initilize topography analysis\n",
    "if TOPOANALYSIS==True:\n",
    "    TOPO = Dataset(files=\"../../../../../../work/mh0066/m301053/Data/Topo/topo_r720x360.nc\", setname = 'TOPO', dataloc = '../../../../../../work/mh0066/m301053/Data/Topo/')\n",
    "    TOPO.land_mask = xr.where(TOPO.ds.topo >= 0.0, True, False)\n",
    "    \n",
    "    # Reindex the land mask to match the climate data grid\n",
    "    TOPO.land_mask_reindexed = TOPO.land_mask.reindex_like(DS.ds, method='nearest')\n",
    "    print(TOPO.land_mask_reindexed)\n",
    "    #TOPO.ds.where(TOPO.land_mask_reindexed==False).topo.plot(ax=ax, transform=ccrs.PlateCarree(),x='lon',y='lat',cmap=cmap_elevation,cbar_kwargs= cbar_kwargs) for ocean\n"
   ]
  },
  {
   "cell_type": "code",
   "execution_count": 35,
   "id": "a07af1a5-5acd-4619-bcd0-8168afed0dda",
   "metadata": {
    "tags": []
   },
   "outputs": [],
   "source": [
    "# =======================================================================\n",
    "#A nice Plot function\n",
    "#plt.rcParams['axes.grid'] = True\n",
    "\n",
    "def update_norm(vmin,vmax,vcentner=0):\n",
    "    global norm\n",
    "    norm = mcolors.TwoSlopeNorm(vmin=vmin, vcenter=vcentner, vmax=vmax)\n",
    "\n",
    "\n",
    "def startfig(title):\n",
    "\n",
    "    cols = ['Mask {}'.format(col) for col in ['Land','Ocean']]\n",
    "    rows = ['{}'.format(row) for row in ['P-space', 'T-Space']]\n",
    "\n",
    "    fig, axes = plt.subplots(nrows=2, ncols=2, \n",
    "                             figsize=(9,6),\n",
    "                             sharex=True, sharey=True,\n",
    "                             constrained_layout=True,\n",
    "                            )\n",
    "\n",
    "    plt.setp(axes.flat, xlabel='X-label', ylabel='Y-label')\n",
    "\n",
    "    fig.suptitle(f'Vertical analysis ({title})',size='x-large',)\n",
    "\n",
    "    pad = 5 # in points\n",
    "\n",
    "    for ax, col in zip(axes[0], cols):\n",
    "        ax.annotate(col, xy=(0.5, 1), xytext=(0, pad),\n",
    "                    xycoords='axes fraction', textcoords='offset points',\n",
    "                    size='large', ha='center', va='baseline',\n",
    "                   )\n",
    "\n",
    "    for ax, row in zip(axes[:,0], rows):\n",
    "        ax.annotate(row, xy=(0, 0.5), xytext=(-ax.yaxis.labelpad - pad, 0),\n",
    "                    xycoords=ax.yaxis.label, textcoords='offset points',\n",
    "                    size='large', ha='right', va='center',\n",
    "                   )\n",
    "    \n",
    "    \n",
    "    \n",
    "    \n",
    "    return fig, axes\n",
    "    \n",
    "    \n",
    "        \n",
    "def endfig(fig, axes, name:str):\n",
    "    \n",
    "    \n",
    "    cbar=fig.colorbar(artlist, ax=axes, location='right',ticks=np.linspace(vmin, vmax,21))\n",
    "    #cbar.ax.set_yticklabels(np.linspace(vmin, vmax,10))\n",
    "    \n",
    "    # Enable Grid\n",
    "    [ax.grid(True) for ax in axes.flat]\n",
    "    #fig.tight_layout()\n",
    "    #fig.subplots_adjust(left=0.15, top=0.95)\n",
    "        \n",
    "    plt.savefig(RESLOC+RESLOC_SPECIFIC+name,)#dpi=400\n",
    "    \n",
    "    plt.show()\n",
    "    \n",
    "    return\n",
    "\n",
    "\n",
    "\n",
    "\n",
    "\n",
    "def save(data,name):  # redundant dont use\n",
    "    data.to_netcdf(path=INT_RES+name)\n",
    "    return\n",
    "\n",
    "def plot_hist_RH(dsw,dss,i,j):\n",
    "    \n",
    "    dss=extract_below_temp_inv(dss).groupby('time.month').mean((\"time\",\"lon\"))\n",
    "    dsw=extract_below_temp_inv(dsw).groupby('time.month').mean((\"time\",\"lon\"))\n",
    "\n",
    "    hists = histogram(dss.lat.where(~np.isnan(dss.RH)),dss.T.where(~np.isnan(dss.RH)),  bins=[latbins, tbins])\n",
    "    RH_hists = histogram(dss.lat.where(~np.isnan(dss.RH)),dss.T.where(~np.isnan(dss.RH)),  bins=[latbins, tbins], weights = dss.RH.where(~np.isnan(dss.RH)))\n",
    "    histw = histogram(dsw.lat.where(~np.isnan(dsw.RH)),dsw.T.where(~np.isnan(dsw.RH)),  bins=[latbins, tbins])\n",
    "    RH_histw = histogram(dsw.lat.where(~np.isnan(dsw.RH)),dsw.T.where(~np.isnan(dsw.RH)),  bins=[latbins, tbins], weights = dsw.RH.where(~np.isnan(dsw.RH)))\n",
    "\n",
    "    RH_hist=RH_hists/hists-RH_histw/histw\n",
    "        \n",
    "    global artlist\n",
    "    artlist=  RH_hist.T.plot(ax=axes[i,j],yincrease=False,norm=norm, levels=levels,cmap=cmap,add_colorbar =False,)\n",
    "    \n",
    "    \n",
    "    \n",
    "    print(f\"Done with axes[{i},{j}]\")\n",
    "    #return RH_hist\n",
    "\n",
    "def plot_RH(dss,dsw,i,j):\n",
    "    ds=dss.mean((\"time\",\"lon\"))-dsw.mean((\"time\",\"lon\"))\n",
    "        \n",
    "    \n",
    "    ds.RH.plot(ax=axes[i,j],yincrease=False,norm=norm, levels=levels, x='lat',y='p',cmap=cmap,add_colorbar =False,)\n",
    "    \n",
    "    print(f\"Done with axes[{i},{j}]\")\n",
    "    #return ds\n"
   ]
  },
  {
   "cell_type": "code",
   "execution_count": 36,
   "id": "a310afe1-1284-418a-89b6-e4b3fa6a4dc0",
   "metadata": {
    "tags": []
   },
   "outputs": [],
   "source": [
    "# =======================================================================\n",
    "# Parameter\n",
    "\n",
    "t1=t1_start\n",
    "t2=t1_end\n",
    "\n",
    "\n",
    "levels=30\n",
    "\n",
    "#\n",
    "\n",
    "Ocean=True\n",
    "Land=False\n",
    "\n",
    "ONDJFM=[10,11,12,1,2,3]\n",
    "AMJJAS=[4,5,6,7,8,9]\n",
    "\n"
   ]
  },
  {
   "cell_type": "code",
   "execution_count": null,
   "id": "f165439e-bcbc-4967-b05d-5576dcbad03b",
   "metadata": {
    "tags": []
   },
   "outputs": [],
   "source": []
  },
  {
   "cell_type": "code",
   "execution_count": 37,
   "id": "b450c4e5-6435-47dd-8296-ec6887903e4c",
   "metadata": {
    "tags": []
   },
   "outputs": [],
   "source": [
    "\n",
    "latbins = np.arange(-90,90,3)\n",
    "tbins = np.arange(-80,30 , 10)\n"
   ]
  },
  {
   "cell_type": "code",
   "execution_count": null,
   "id": "16cf99db-12b8-4c1b-898e-eb6370e99cbe",
   "metadata": {
    "tags": []
   },
   "outputs": [],
   "source": [
    "\n",
    "    "
   ]
  },
  {
   "cell_type": "code",
   "execution_count": null,
   "id": "e479f858-a097-4742-9884-f825111909f3",
   "metadata": {
    "tags": []
   },
   "outputs": [],
   "source": []
  },
  {
   "cell_type": "code",
   "execution_count": null,
   "id": "aa74297d-7021-4a93-8d9e-14f4f0c90e15",
   "metadata": {
    "tags": []
   },
   "outputs": [],
   "source": []
  },
  {
   "cell_type": "markdown",
   "id": "3e13be31-a8fc-419a-9eb2-835f10fb62f8",
   "metadata": {},
   "source": [
    "## Plots for RH"
   ]
  },
  {
   "cell_type": "code",
   "execution_count": 38,
   "id": "dd5bd611-a680-4d6f-9543-d0da106d61db",
   "metadata": {},
   "outputs": [],
   "source": [
    "# =======================================================================\n",
    "# Parameter fuer RH Plot\n",
    "\n",
    "vmin=-0.3\n",
    "vmax=0.3\n",
    "levels=30\n",
    "cmap=cmap_RH_change_gray\n",
    "update_norm(vmin,vmax,0)\n",
    "\n",
    "\n",
    "ocean=DS.ds.sel(time=slice(t1,t2)).where(TOPO.land_mask_reindexed==False)\n",
    "land=DS.ds.sel(time=slice(t1,t2)).where(TOPO.land_mask_reindexed==True)\n",
    "\n",
    "lw=land.sel(time=ocean.time.dt.month.isin(ONDJFM))\n",
    "ls=land.sel(time=ocean.time.dt.month.isin(AMJJAS))\n",
    "ow=ocean.sel(time=ocean.time.dt.month.isin(ONDJFM))\n",
    "os=ocean.sel(time=ocean.time.dt.month.isin(AMJJAS))"
   ]
  },
  {
   "cell_type": "code",
   "execution_count": 39,
   "id": "f3207e8a-7fd2-44f2-b933-0531a92539a2",
   "metadata": {
    "tags": []
   },
   "outputs": [
    {
     "name": "stdout",
     "output_type": "stream",
     "text": [
      "Done with axes[0,0]\n",
      "Done with axes[0,1]\n",
      "[########################################] | 100% Completed | 2.10 sms\n",
      "[########################################] | 100% Completed | 1.99 sms\n",
      "Done with axes[1,0]\n",
      "[########################################] | 100% Completed | 3.26 sms\n",
      "[########################################] | 100% Completed | 2.24 sms\n",
      "Done with axes[1,1]\n"
     ]
    },
    {
     "data": {
      "image/png": "[encoded data removed]",
      "text/plain": [
       "<Figure size 900x600 with 5 Axes>"
      ]
     },
     "metadata": {},
     "output_type": "display_data"
    }
   ],
   "source": [
    "# =======================================================================\n",
    "# Plot \n",
    "\n",
    "title='RH_Compare_ONDJFM-AMJJAS_'+SETNAME\n",
    "fig, axes = startfig(title)\n",
    "\n",
    "plot_RH(lw,ls,0,0)#.to_netcdf(path=INT_RES+title+'_lw,ls.nc')\n",
    "plot_RH(ow,os,0,1)#.to_netcdf(path=INT_RES+title+'_ow,os.nc')\n",
    "\n",
    "plot_hist_RH(lw,ls,1,0)#.to_netcdf(path=INT_RES+title+'__lw,ls.nc')\n",
    "plot_hist_RH(ow,os,1,1)#.to_netcdf(path=INT_RES+title+'_ow,os.nc')\n",
    "\n",
    "\n",
    "endfig(fig,axes,title)"
   ]
  },
  {
   "cell_type": "code",
   "execution_count": null,
   "id": "1135cced-8ab2-4b2d-8519-55951563818c",
   "metadata": {},
   "outputs": [],
   "source": []
  },
  {
   "cell_type": "code",
   "execution_count": null,
   "id": "5424d882-a173-4916-aeda-3e1ede3c5459",
   "metadata": {},
   "outputs": [],
   "source": []
  },
  {
   "cell_type": "code",
   "execution_count": null,
   "id": "89e63e08-90ee-40bb-893e-788791981972",
   "metadata": {
    "tags": []
   },
   "outputs": [],
   "source": []
  },
  {
   "cell_type": "code",
   "execution_count": null,
   "id": "f1c294dd-8d0c-460e-9950-c87924d7eadf",
   "metadata": {},
   "outputs": [],
   "source": []
  },
  {
   "cell_type": "code",
   "execution_count": null,
   "id": "0c84db53-0430-4f24-a232-7eb866958a56",
   "metadata": {
    "tags": []
   },
   "outputs": [],
   "source": []
  },
  {
   "cell_type": "code",
   "execution_count": null,
   "id": "4184175e-ca46-455a-8bc9-1ffd4bd68468",
   "metadata": {},
   "outputs": [],
   "source": []
  },
  {
   "cell_type": "code",
   "execution_count": null,
   "id": "03640173-ff01-4dfb-bb55-170d59539c2d",
   "metadata": {},
   "outputs": [],
   "source": []
  }
 ],
 "metadata": {
  "kernelspec": {
   "display_name": "Python 3 (based on the module python3/2023.01)",
   "language": "python",
   "name": "python3_2023_01"
  },
  "language_info": {
   "codemirror_mode": {
    "name": "ipython",
    "version": 3
   },
   "file_extension": ".py",
   "mimetype": "text/x-python",
   "name": "python",
   "nbconvert_exporter": "python",
   "pygments_lexer": "ipython3",
   "version": "3.10.10"
  }
 },
 "nbformat": 4,
 "nbformat_minor": 5
}
