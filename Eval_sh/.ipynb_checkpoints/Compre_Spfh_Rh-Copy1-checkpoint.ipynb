{
 "cells": [
  {
   "cell_type": "markdown",
   "id": "711adb45-caeb-46d1-ac6d-6b940d88e08c",
   "metadata": {},
   "source": [
    "# Compare model rh and calculated rh"
   ]
  },
  {
   "cell_type": "code",
   "execution_count": 1,
   "id": "1aefe252-7385-45ab-89dc-e3aa7d2a4eae",
   "metadata": {},
   "outputs": [
    {
     "name": "stdout",
     "output_type": "stream",
     "text": [
      "/sw/spack-levante/mambaforge-22.9.0-2-Linux-x86_64-kptncg/bin/python\n"
     ]
    },
    {
     "data": {
      "text/plain": [
       "['/home/m/m301053/RH_Analysis_V2/Eval_sh',\n",
       " '/sw/spack-levante/mambaforge-22.9.0-2-Linux-x86_64-kptncg/lib/python310.zip',\n",
       " '/sw/spack-levante/mambaforge-22.9.0-2-Linux-x86_64-kptncg/lib/python3.10',\n",
       " '/sw/spack-levante/mambaforge-22.9.0-2-Linux-x86_64-kptncg/lib/python3.10/lib-dynload',\n",
       " '',\n",
       " '/home/m/m301053/.local/lib/python3.10/site-packages',\n",
       " '/sw/spack-levante/mambaforge-22.9.0-2-Linux-x86_64-kptncg/lib/python3.10/site-packages',\n",
       " '/sw/spack-levante/mambaforge-22.9.0-2-Linux-x86_64-kptncg/lib/python3.10/site-packages/GDAL-3.5.0-py3.10-linux-x86_64.egg']"
      ]
     },
     "execution_count": 1,
     "metadata": {},
     "output_type": "execute_result"
    }
   ],
   "source": [
    "\n",
    "import sys\n",
    "print(sys.executable)\n",
    "sys.path\n"
   ]
  },
  {
   "cell_type": "code",
   "execution_count": 2,
   "id": "0a04958b-5b9c-4d40-a635-f08360a87de2",
   "metadata": {},
   "outputs": [
    {
     "name": "stderr",
     "output_type": "stream",
     "text": [
      "ERROR 1: PROJ: proj_create_from_database: Open of /sw/spack-levante/mambaforge-22.9.0-2-Linux-x86_64-kptncg/share/proj failed\n"
     ]
    }
   ],
   "source": [
    "# load stuff:\n",
    "import datetime as dt\n",
    "\n",
    "from dataload_helper import Dataset\n",
    "from dataeval_helper import *  # load here also numpy, scipy,...\n",
    "from global_params import *\n",
    "from physics_helper import init_rh_calc_vals\n",
    "\n"
   ]
  },
  {
   "cell_type": "code",
   "execution_count": 3,
   "id": "50cb4c0d-9362-44e1-80b7-b4f049f5ed6d",
   "metadata": {},
   "outputs": [],
   "source": [
    "#load Datasets\n",
    "\n",
    "#SETNAME=\"MERRA2\"\n",
    "SETNAME=\"JRA-55\"\n",
    "\n",
    "#Global Params\n",
    "if SETNAME==\"MERRA\":\n",
    "    FILES=\"../Data/Merra_inst3_3d_asm_Cp_1979-2016/instM_3d_asm_Cp_197901_201601.nc\"\n",
    "    RESLOC = '../Results/'\n",
    "    RESLOC_SPECIFIC = 'MERRA_RH/'\n",
    "    DATALOC_SPECIFIC = 'Merra_inst3_3d_asm_Cp_1979-2016/'\n",
    "    DATALOC = '../Data/' + DATALOC_SPECIFIC\n",
    "elif SETNAME==\"MERRA2\":\n",
    "    FILES=\"../../../../../../work/mh0066/m301053/Data/MERRA2_instM_3d_asm_Np_all/MERRA2_*\"\n",
    "    DATALOC_SPECIFIC = 'MERRA2_instM_3d_asm_Np_all/'\n",
    "    DATALOC = '../../../../../../work/mh0066/m301053/Data/' + DATALOC_SPECIFIC\n",
    "elif SETNAME==\"JRA-55\":\n",
    "    FILES=\"../../../../../../work/mh0066/m301053/Data/JRA-55_Monthly_1.25_Deg_isobaric_sh/*.nc\"\n",
    "   \n",
    "    DATALOC_SPECIFIC = 'JRA-55_Monthly_1.25_Deg_isobaric_sh/'\n",
    "    DATALOC = '../../../../../../work/mh0066/m301053/Data/' + DATALOC_SPECIFIC\n",
    "else:\n",
    "    raise Exception(\"Sorry, notexisting Setname\")\n",
    "    \n",
    "RESLOC = '../Res_sh/'#'../Results/'#'../NicePlots/'\n",
    "RESLOC_SPECIFIC = SETNAME\n",
    "#What parts of the Notebook should run?\n",
    "TOPOANALYSIS=False\n",
    "\n",
    "MASKELEVATION=True\n",
    "SURFACEVALUES=True\n",
    "\n",
    "TvsRHANALYSIS=True\n",
    "\n",
    "\n",
    "\n",
    "#Times for analysis\n",
    "if SETNAME==\"JRA-55\":\n",
    "    t1_start='1958-01-01'\n",
    "    t1_end='1973-12-01'\n",
    "    t2_start='2007-01-01'\n",
    "    t2_end='2021-12-01'\n",
    "\n",
    "if SETNAME==\"MERRA2\":\n",
    "    t1_start='1980-01-01'\n",
    "    t1_end='1989-12-01'\n",
    "    t2_start='2010-01-01'\n",
    "    t2_end='2022-12-01'"
   ]
  },
  {
   "cell_type": "code",
   "execution_count": 4,
   "id": "485a5664-b2ce-4605-ad0f-4a8b7d7f394a",
   "metadata": {},
   "outputs": [
    {
     "name": "stdout",
     "output_type": "stream",
     "text": [
      "Loading full dataset JRA-55\n",
      "<xarray.Dataset>\n",
      "Dimensions:   (time: 768, lon: 288, lat: 145, p: 37)\n",
      "Coordinates:\n",
      "  * time      (time) datetime64[ns] 1958-01-01 1958-02-01 ... 2021-12-01\n",
      "  * lon       (lon) float64 -180.0 -178.8 -177.5 -176.2 ... 176.2 177.5 178.8\n",
      "  * lat       (lat) float64 -90.0 -88.75 -87.5 -86.25 ... 86.25 87.5 88.75 90.0\n",
      "  * p         (p) float64 1e+03 975.0 950.0 925.0 900.0 ... 7.0 5.0 3.0 2.0 1.0\n",
      "Data variables:\n",
      "    SH        (time, p, lat, lon) float32 dask.array<chunksize=(768, 1, 145, 144), meta=np.ndarray>\n",
      "    RH_model  (time, p, lat, lon) float32 dask.array<chunksize=(768, 1, 145, 144), meta=np.ndarray>\n",
      "    T         (time, p, lat, lon) float32 dask.array<chunksize=(768, 37, 145, 9), meta=np.ndarray>\n",
      "Attributes:\n",
      "    CDI:          Climate Data Interface version 2.0.6 (https://mpimet.mpg.de...\n",
      "    Conventions:  CF-1.6\n",
      "    history:      Mon Jul 31 12:51:58 2023: cdo -f nc --eccodes copy anl_p125...\n",
      "    CDO:          Climate Data Operators version 2.0.6 (https://mpimet.mpg.de...\n"
     ]
    }
   ],
   "source": [
    "with dask.config.set(**{'array.slicing.split_large_chunks': True}):\n",
    "    DS = Dataset(files=FILES, setname = SETNAME, dataloc = DATALOC)"
   ]
  },
  {
   "cell_type": "code",
   "execution_count": 5,
   "id": "189c244f-d284-4bd9-9222-5e5c7af5367a",
   "metadata": {},
   "outputs": [
    {
     "name": "stdout",
     "output_type": "stream",
     "text": [
      "Loading full dataset JRA-55_2D\n",
      "<xarray.Dataset>\n",
      "Dimensions:  (time: 768, lon: 288, lat: 145)\n",
      "Coordinates:\n",
      "  * time     (time) datetime64[ns] 1958-01-01 1958-02-01 ... 2021-12-01\n",
      "  * lon      (lon) float64 -180.0 -178.8 -177.5 -176.2 ... 176.2 177.5 178.8\n",
      "  * lat      (lat) float64 -90.0 -88.75 -87.5 -86.25 ... 86.25 87.5 88.75 90.0\n",
      "Data variables:\n",
      "    SP       (time, lat, lon) float32 dask.array<chunksize=(12, 145, 288), meta=np.ndarray>\n",
      "Attributes:\n",
      "    CDI:          Climate Data Interface version 2.0.6 (https://mpimet.mpg.de...\n",
      "    Conventions:  CF-1.6\n",
      "    history:      Fri Jul 21 13:39:16 2023: cdo -f nc --eccodes copy anl_surf...\n",
      "    CDO:          Climate Data Operators version 2.0.6 (https://mpimet.mpg.de...\n",
      "<xarray.Dataset>\n",
      "Dimensions:   (time: 768, p: 37, lat: 145, lon: 288)\n",
      "Coordinates:\n",
      "  * time      (time) datetime64[ns] 1958-01-01 1958-02-01 ... 2021-12-01\n",
      "  * lon       (lon) float64 -180.0 -178.8 -177.5 -176.2 ... 176.2 177.5 178.8\n",
      "  * lat       (lat) float64 -90.0 -88.75 -87.5 -86.25 ... 86.25 87.5 88.75 90.0\n",
      "  * p         (p) float64 1e+03 975.0 950.0 925.0 900.0 ... 7.0 5.0 3.0 2.0 1.0\n",
      "Data variables:\n",
      "    SH        (time, p, lat, lon) float32 dask.array<chunksize=(768, 1, 145, 144), meta=np.ndarray>\n",
      "    RH_model  (time, p, lat, lon) float32 dask.array<chunksize=(768, 1, 145, 144), meta=np.ndarray>\n",
      "    T         (time, p, lat, lon) float32 dask.array<chunksize=(768, 37, 145, 9), meta=np.ndarray>\n",
      "Attributes:\n",
      "    CDI:          Climate Data Interface version 2.0.6 (https://mpimet.mpg.de...\n",
      "    Conventions:  CF-1.6\n",
      "    history:      Mon Jul 31 12:51:58 2023: cdo -f nc --eccodes copy anl_p125...\n",
      "    CDO:          Climate Data Operators version 2.0.6 (https://mpimet.mpg.de...\n"
     ]
    }
   ],
   "source": [
    "if MASKELEVATION==True and SETNAME==\"JRA-55\":\n",
    "    DS_2D = Dataset(files='../../../../../../work/mh0066/m301053/Data/JRA-55_Monthly_1.25_Deg_surface_1958-2021/anl*pres*.nc', setname = 'JRA-55_2D', dataloc = '../../../../../../work/mh0066/m301053/Data/JRA-55_Monthly_1.25_Deg_surface/')\n",
    "    DS.ds = elevation2nan( DS.ds, DS_2D.ds )\n",
    "    print(DS.ds)"
   ]
  },
  {
   "cell_type": "code",
   "execution_count": 6,
   "id": "005dd4d1-f77a-4abf-9aae-377a3259efc7",
   "metadata": {},
   "outputs": [],
   "source": [
    "# =======================================================================\n",
    "#Initilize topography analysis\n",
    "if TOPOANALYSIS==True:\n",
    "    TOPO = Dataset(files=\"../../../../../../work/mh0066/m301053/Data/Topo/topo_r720x360.nc\", setname = 'TOPO', dataloc = '../../../../../../work/mh0066/m301053/Data/Topo/')\n",
    "    TOPO.land_mask = xr.where(TOPO.ds.topo >= 0.0, True, False)\n",
    "    \n",
    "    # Reindex the land mask to match the climate data grid\n",
    "    TOPO.land_mask_reindexed = TOPO.land_mask.reindex_like(DS.ds, method='nearest')\n",
    "    #print(TOPO.land_mask_reindexed)\n",
    "    #TOPO.ds.where(TOPO.land_mask_reindexed==False).topo.plot(ax=ax, transform=ccrs.PlateCarree(),x='lon',y='lat',cmap=cmap_elevation,cbar_kwargs= cbar_kwargs) for ocean\n"
   ]
  },
  {
   "cell_type": "code",
   "execution_count": null,
   "id": "2c5dd48e-b90b-43db-b679-cee5f525a53c",
   "metadata": {},
   "outputs": [],
   "source": []
  },
  {
   "cell_type": "code",
   "execution_count": null,
   "id": "a04de334-9b01-4a8f-9df3-c2cead7ab70b",
   "metadata": {},
   "outputs": [
    {
     "name": "stdout",
     "output_type": "stream",
     "text": [
      "64.0\n",
      "0\n",
      "1\n"
     ]
    }
   ],
   "source": [
    "#DS.ds=DS.ds.sel(time=slice('2021-01-01',t2_end))\n",
    "init_rh_calc_vals(DS)"
   ]
  },
  {
   "cell_type": "code",
   "execution_count": null,
   "id": "7bf36ebc-b03b-4895-8704-d476d0496296",
   "metadata": {},
   "outputs": [],
   "source": []
  },
  {
   "cell_type": "code",
   "execution_count": null,
   "id": "e88530cf-9284-4e58-b447-b883250bb9b2",
   "metadata": {},
   "outputs": [],
   "source": [
    "DS.ds.RH_calc\n",
    "#print(DS.ds.RH_calc.to_numpy())"
   ]
  },
  {
   "cell_type": "code",
   "execution_count": null,
   "id": "2819eae7-37eb-449a-a141-44905e821f0f",
   "metadata": {},
   "outputs": [],
   "source": [
    "DS.ds.RH_model"
   ]
  },
  {
   "cell_type": "code",
   "execution_count": null,
   "id": "0ae7dae2-c350-4f09-8a9f-6b2937178d76",
   "metadata": {},
   "outputs": [],
   "source": [
    "if TvsRHANALYSIS==True:\n",
    "    #ZONES_Test =np.array([-90,-89]) # Zones between 1.,2. and 3.,4. and ...\n",
    "    zones=ZONES_Helene\n",
    "    \n",
    "    fig, ax1 = plt.subplots(1,1, constrained_layout=True)\n",
    "    \n",
    "    with ProgressBar():\n",
    "            raw = dask.compute(DS.ds.sel(time=slice(t2_start,t2_end)).mean(('time','lon')))[0]\n",
    "    \n",
    "    for i in range(0,int(0.5*len(zones))):\n",
    "        l1 = zones[2*i]\n",
    "        l2 = zones[2*i+1]\n",
    "        \n",
    "        with ProgressBar():\n",
    "            Diff = dask.compute(raw.sel(lat=slice(l1,l2)).weighted(np.cos(np.deg2rad(DS.ds.lat))).mean(('lat')))[0]\n",
    "        \n",
    "        lh,=(Diff.RH_calc).plot.line(ax=ax1,y='p',yincrease=False, label = 'RH - calc - '+str(l1)+'° to '+str(l2)+'°',)\n",
    "        Diff.RH_model.plot.line(ax=ax1,y='p',yincrease=False, label = 'RH - model output',color=lh.get_color(),linestyle='dotted',)\n",
    "        #get_vertical_levels(Diff,1001,100).plot.scatter(ax=ax3,x='RH',y='T',yincrease=True) #, linestyle='-', marker=''\n",
    "    \n",
    "    TOP_LIM4PLOT=95\n",
    "    ax1.set_ylim(top=TOP_LIM4PLOT)\n",
    "\n",
    "    ax1.set_xlim((0,1))\n",
    "    \n",
    "    ax1.set_yscale('log')\n",
    "    \n",
    "    fig.suptitle('Zonal mean \\n time period ' +t1_start+ ' to ' + t2_end+' /n Set: '+ SETNAME)\n",
    "    ax1.legend(title = 'Latitude zones:')\n",
    "    #plt.tight_layout()\n",
    "    ax1.grid()\n",
    "    ax1.grid(which = \"minor\")\n",
    "    ax1.minorticks_on()\n",
    "    \n",
    "    plt.savefig(RESLOC+RESLOC_SPECIFIC+'vertical_variable_profiles_'+DS.setname+'.png',dpi=400)\n",
    "    \n",
    "    plt.show()\n",
    "    "
   ]
  },
  {
   "cell_type": "code",
   "execution_count": null,
   "id": "bc0fd267-5e8e-4580-871d-1ac8aad02223",
   "metadata": {},
   "outputs": [],
   "source": []
  },
  {
   "cell_type": "code",
   "execution_count": null,
   "id": "0a834bba-4ba4-49cb-b19f-736f8db0b05f",
   "metadata": {},
   "outputs": [],
   "source": [
    "if TvsRHANALYSIS==True:\n",
    "    fig, ax1= plt.subplots(1,1, constrained_layout=True)\n",
    "    \n",
    "    with ProgressBar():\n",
    "            Raw = dask.compute(DS.ds.sel(time=slice(t2_start,t2_end)).mean(('time','lon')) - DS.ds.sel(time=slice(t1_start,t1_end)).mean(('time','lon')))[0]\n",
    "           \n",
    "    for i in range(0,int(0.5*len(zones))):\n",
    "        l1 = zones[2*i]\n",
    "        l2 = zones[2*i+1]\n",
    "        \n",
    "        with ProgressBar():\n",
    "            Diff = dask.compute((Raw).sel(lat=slice(l1,l2)).weighted(np.cos(np.deg2rad(DS.ds.lat))).mean(('lat')))[0]\n",
    "        \n",
    "        lh,=Diff.RH_calc.plot.line(ax=ax1,y='p',yincrease=False, label = 'DRH - calc from SH - '+str(l1)+'° to '+str(l2)+'°',linestyle='dotted',)\n",
    "        Diff.RH_model.plot.line(ax=ax1,y='p',yincrease=False, label = 'DRH - model output',color=lh.get_color(),linestyle='dotted',)\n",
    "        \n",
    "    TOP_LIM4PLOT=95\n",
    "    ax1.set_ylim(top=TOP_LIM4PLOT)\n",
    "    #ax1.set_xlim((-0.2,0.2))\n",
    "    ax1.set_yscale('log')\n",
    "    \n",
    "    fig.suptitle('Zonal mean  \\n comparing period ' +t1_start+ ' to ' + t1_end + ' and period '+ t2_start+ ' to ' + t2_end+' /n Set: '+ SETNAME)\n",
    "    ax1.legend(title = 'Latitude zones:')\n",
    "    #plt.tight_layout()\n",
    "    ax1.grid()\n",
    "    ax1.grid(which = \"minor\")\n",
    "    ax1.minorticks_on()\n",
    "    plt.savefig(RESLOC+RESLOC_SPECIFIC+'vertical_variable_change_profiles_'+DS.setname+'.png',dpi=400)\n",
    "    \n",
    "    plt.show()\n",
    "    "
   ]
  },
  {
   "cell_type": "code",
   "execution_count": null,
   "id": "466b4d56-2ad7-49ea-b461-1794ed882fb8",
   "metadata": {},
   "outputs": [],
   "source": []
  },
  {
   "cell_type": "code",
   "execution_count": null,
   "id": "7c4a130a-9402-4878-b32e-9f5bffb8ffc0",
   "metadata": {},
   "outputs": [],
   "source": []
  },
  {
   "cell_type": "code",
   "execution_count": null,
   "id": "51b9c4aa-90ae-43b3-831a-c0b9c7f739e9",
   "metadata": {},
   "outputs": [],
   "source": []
  }
 ],
 "metadata": {
  "kernelspec": {
   "display_name": "konrad",
   "language": "python",
   "name": "my-kernel"
  },
  "language_info": {
   "codemirror_mode": {
    "name": "ipython",
    "version": 3
   },
   "file_extension": ".py",
   "mimetype": "text/x-python",
   "name": "python",
   "nbconvert_exporter": "python",
   "pygments_lexer": "ipython3",
   "version": "3.10.10"
  }
 },
 "nbformat": 4,
 "nbformat_minor": 5
}
