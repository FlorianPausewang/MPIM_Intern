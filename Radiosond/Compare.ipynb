{
 "cells": [
  {
   "cell_type": "code",
   "execution_count": 1,
   "id": "09df6ca9-2158-486e-9cdf-cc305a68ee74",
   "metadata": {},
   "outputs": [
    {
     "name": "stderr",
     "output_type": "stream",
     "text": [
      "ERROR 1: PROJ: proj_create_from_database: Open of /sw/spack-levante/mambaforge-22.9.0-2-Linux-x86_64-kptncg/share/proj failed\n"
     ]
    }
   ],
   "source": [
    "# load stuff:\n",
    "import scipy.optimize as so\n",
    "import datetime as dt\n",
    "\n",
    "from dataload_helper import Dataset\n",
    "from dataeval_helper import *  # load here also numpy, scipy,...\n",
    "from global_params import *\n",
    "from physics_helper import init_rh_calc_vals\n",
    "#import cartopy.crs as ccrs\n"
   ]
  },
  {
   "cell_type": "code",
   "execution_count": 2,
   "id": "5354e0b8-41bd-4bfe-bbfa-cfab3541bff0",
   "metadata": {},
   "outputs": [],
   "source": [
    "#load Datasets\n",
    "\n",
    "\n",
    "\n",
    "#Global Params\n",
    "SETNAME1=\"MERRA2\"\n",
    "FILES1=\"../../../../../../work/mh0066/m301053/Data/MERRA2_instM_3d_asm_Np_all/MERRA2_*\"\n",
    "DATALOC_SPECIFIC1 = 'MERRA2_instM_3d_asm_Np_all/'\n",
    "DATALOC1 = '../../../../../../work/mh0066/m301053/Data/' + DATALOC_SPECIFIC1\n",
    "\n",
    "SETNAME2=\"JRA-55\"\n",
    "FILES2=\"../../../../../../work/mh0066/m301053/Data/JRA-55_Monthly_1.25_Deg_isobaric_sh/*.nc\"\n",
    "DATALOC_SPECIFIC2 = 'JRA-55_Monthly_1.25_Deg_isobaric_sh/'\n",
    "DATALOC2 = '../../../../../../work/mh0066/m301053/Data/' + DATALOC_SPECIFIC2\n",
    "\n",
    "RESLOC = './'\n",
    "RESLOC_SPECIFIC = ''\n",
    "\n",
    "TOPOANALYSIS=True\n",
    "MASKELEVATION=True\n",
    "\n",
    "\n",
    "OneGraph=False\n",
    "#Times for analysis\n",
    "t1_start='1980-01-01'\n",
    "t1_end='1989-12-01'\n",
    "t2_start='2010-01-01'\n",
    "t2_end='2019-12-01'\n",
    "\n",
    "\n",
    "t1='1980-01-01'\n",
    "t2='2021-12-12'\n",
    "\n",
    "\n",
    "\n",
    "#Location of radiosonde:\n",
    "\n",
    "Name='GPM00078897'\n",
    "lat=16.2639  \n",
    "lon=-61.5164   \n",
    "\n"
   ]
  },
  {
   "cell_type": "code",
   "execution_count": 3,
   "id": "81d8759e-5302-420e-a19a-df7c5f23f219",
   "metadata": {},
   "outputs": [
    {
     "name": "stdout",
     "output_type": "stream",
     "text": [
      "Loading full dataset MERRA2\n",
      "<xarray.Dataset>\n",
      "Dimensions:   (time: 522, p: 42, lat: 361, lon: 576)\n",
      "Coordinates:\n",
      "  * lat       (lat) float64 -90.0 -89.5 -89.0 -88.5 ... 88.5 89.0 89.5 90.0\n",
      "  * p         (p) float64 1e+03 975.0 950.0 925.0 900.0 ... 0.7 0.5 0.4 0.3 0.1\n",
      "  * lon       (lon) float64 -180.0 -179.4 -178.8 -178.1 ... 178.1 178.8 179.4\n",
      "  * time      (time) datetime64[ns] 1980-01-01 1980-02-01 ... 2023-06-01\n",
      "Data variables:\n",
      "    RH_model  (time, p, lat, lon) float32 dask.array<chunksize=(1, 42, 361, 576), meta=np.ndarray>\n",
      "    T         (time, p, lat, lon) float32 dask.array<chunksize=(1, 42, 361, 576), meta=np.ndarray>\n",
      "    SH        (time, p, lat, lon) float32 dask.array<chunksize=(1, 42, 361, 576), meta=np.ndarray>\n",
      "Attributes: (12/32)\n",
      "    History:                           Original file generated: Thu May  7 22...\n",
      "    Filename:                          MERRA2_100.instM_3d_asm_Np.198001.nc4\n",
      "    Comment:                           GMAO filename: d5124_m2_jan79.inst3_3d...\n",
      "    Conventions:                       CF-1\n",
      "    Institution:                       NASA Global Modeling and Assimilation ...\n",
      "    References:                        http://gmao.gsfc.nasa.gov\n",
      "    ...                                ...\n",
      "    Contact:                           http://gmao.gsfc.nasa.gov\n",
      "    identifier_product_doi:            10.5067/2E096JV59PK7\n",
      "    RangeBeginningTime:                00:00:00.000000\n",
      "    RangeEndingTime:                   21:00:00.000000\n",
      "    DODS_EXTRA.Unlimited_Dimension:    time\n",
      "    history:                           2023-07-31 09:18:46 GMT Hyrax-1.16.3 h...\n",
      "Loading full dataset MERRA2\n",
      "<xarray.Dataset>\n",
      "Dimensions:   (time: 522, p: 42, lat: 361, lon: 576)\n",
      "Coordinates:\n",
      "  * lat       (lat) float64 -90.0 -89.5 -89.0 -88.5 ... 88.5 89.0 89.5 90.0\n",
      "  * p         (p) float64 1e+03 975.0 950.0 925.0 900.0 ... 0.7 0.5 0.4 0.3 0.1\n",
      "  * lon       (lon) float64 -180.0 -179.4 -178.8 -178.1 ... 178.1 178.8 179.4\n",
      "  * time      (time) datetime64[ns] 1980-01-01 1980-02-01 ... 2023-06-01\n",
      "Data variables:\n",
      "    RH_model  (time, p, lat, lon) float32 dask.array<chunksize=(1, 42, 361, 576), meta=np.ndarray>\n",
      "    T         (time, p, lat, lon) float32 dask.array<chunksize=(1, 42, 361, 576), meta=np.ndarray>\n",
      "    SH        (time, p, lat, lon) float32 dask.array<chunksize=(1, 42, 361, 576), meta=np.ndarray>\n",
      "Attributes: (12/32)\n",
      "    History:                           Original file generated: Thu May  7 22...\n",
      "    Filename:                          MERRA2_100.instM_3d_asm_Np.198001.nc4\n",
      "    Comment:                           GMAO filename: d5124_m2_jan79.inst3_3d...\n",
      "    Conventions:                       CF-1\n",
      "    Institution:                       NASA Global Modeling and Assimilation ...\n",
      "    References:                        http://gmao.gsfc.nasa.gov\n",
      "    ...                                ...\n",
      "    Contact:                           http://gmao.gsfc.nasa.gov\n",
      "    identifier_product_doi:            10.5067/2E096JV59PK7\n",
      "    RangeBeginningTime:                00:00:00.000000\n",
      "    RangeEndingTime:                   21:00:00.000000\n",
      "    DODS_EXTRA.Unlimited_Dimension:    time\n",
      "    history:                           2023-07-31 09:18:46 GMT Hyrax-1.16.3 h...\n",
      "Loading full dataset JRA-55\n",
      "<xarray.Dataset>\n",
      "Dimensions:   (time: 768, lon: 288, lat: 145, p: 37)\n",
      "Coordinates:\n",
      "  * time      (time) datetime64[ns] 1958-01-01 1958-02-01 ... 2021-12-01\n",
      "  * lon       (lon) float64 -180.0 -178.8 -177.5 -176.2 ... 176.2 177.5 178.8\n",
      "  * lat       (lat) float64 -90.0 -88.75 -87.5 -86.25 ... 86.25 87.5 88.75 90.0\n",
      "  * p         (p) float64 1e+03 975.0 950.0 925.0 900.0 ... 7.0 5.0 3.0 2.0 1.0\n",
      "Data variables:\n",
      "    SH        (time, p, lat, lon) float32 dask.array<chunksize=(768, 1, 145, 144), meta=np.ndarray>\n",
      "    RH_model  (time, p, lat, lon) float32 dask.array<chunksize=(768, 1, 145, 144), meta=np.ndarray>\n",
      "    T         (time, p, lat, lon) float32 dask.array<chunksize=(768, 37, 145, 9), meta=np.ndarray>\n",
      "Attributes:\n",
      "    CDI:          Climate Data Interface version 2.0.6 (https://mpimet.mpg.de...\n",
      "    Conventions:  CF-1.6\n",
      "    history:      Mon Jul 31 12:51:58 2023: cdo -f nc --eccodes copy anl_p125...\n",
      "    CDO:          Climate Data Operators version 2.0.6 (https://mpimet.mpg.de...\n",
      "Load existing file for rh_calc_vals from ../../../../../../work/mh0066/m301053/Data/JRA-55_Monthly_1.25_Deg_isobaric_sh/rh_calc_vals.netcdf\n",
      "<xarray.Dataset>\n",
      "Dimensions:   (time: 768, lon: 288, lat: 145, p: 37)\n",
      "Coordinates:\n",
      "  * time      (time) datetime64[ns] 1958-01-01 1958-02-01 ... 2021-12-01\n",
      "  * lon       (lon) float64 -180.0 -178.8 -177.5 -176.2 ... 176.2 177.5 178.8\n",
      "  * lat       (lat) float64 -90.0 -88.75 -87.5 -86.25 ... 86.25 87.5 88.75 90.0\n",
      "  * p         (p) float64 1e+03 975.0 950.0 925.0 900.0 ... 7.0 5.0 3.0 2.0 1.0\n",
      "Data variables:\n",
      "    SH        (time, p, lat, lon) float32 dask.array<chunksize=(768, 1, 145, 144), meta=np.ndarray>\n",
      "    RH_model  (time, p, lat, lon) float32 dask.array<chunksize=(768, 1, 145, 144), meta=np.ndarray>\n",
      "    T         (time, p, lat, lon) float32 dask.array<chunksize=(768, 37, 145, 9), meta=np.ndarray>\n",
      "    RH_calc   (time, p, lat, lon) float64 dask.array<chunksize=(768, 37, 145, 288), meta=np.ndarray>\n",
      "Attributes:\n",
      "    CDI:          Climate Data Interface version 2.0.6 (https://mpimet.mpg.de...\n",
      "    Conventions:  CF-1.6\n",
      "    history:      Mon Jul 31 12:51:58 2023: cdo -f nc --eccodes copy anl_p125...\n",
      "    CDO:          Climate Data Operators version 2.0.6 (https://mpimet.mpg.de...\n",
      "Load existing file for rh_calc_vals from ../../../../../../work/mh0066/m301053/Data/MERRA2_instM_3d_asm_Np_all/rh_calc_vals.netcdf\n",
      "<xarray.Dataset>\n",
      "Dimensions:   (lat: 361, p: 42, lon: 576, time: 522)\n",
      "Coordinates:\n",
      "  * lat       (lat) float64 -90.0 -89.5 -89.0 -88.5 ... 88.5 89.0 89.5 90.0\n",
      "  * p         (p) float64 1e+03 975.0 950.0 925.0 900.0 ... 0.7 0.5 0.4 0.3 0.1\n",
      "  * lon       (lon) float64 -180.0 -179.4 -178.8 -178.1 ... 178.1 178.8 179.4\n",
      "  * time      (time) datetime64[ns] 1980-01-01 1980-02-01 ... 2023-06-01\n",
      "Data variables:\n",
      "    RH_model  (time, p, lat, lon) float32 dask.array<chunksize=(1, 42, 361, 576), meta=np.ndarray>\n",
      "    T         (time, p, lat, lon) float32 dask.array<chunksize=(1, 42, 361, 576), meta=np.ndarray>\n",
      "    SH        (time, p, lat, lon) float32 dask.array<chunksize=(1, 42, 361, 576), meta=np.ndarray>\n",
      "    RH_calc   (time, p, lat, lon) float64 dask.array<chunksize=(522, 42, 361, 576), meta=np.ndarray>\n",
      "Attributes: (12/32)\n",
      "    History:                           Original file generated: Thu May  7 22...\n",
      "    Filename:                          MERRA2_100.instM_3d_asm_Np.198001.nc4\n",
      "    Comment:                           GMAO filename: d5124_m2_jan79.inst3_3d...\n",
      "    Conventions:                       CF-1\n",
      "    Institution:                       NASA Global Modeling and Assimilation ...\n",
      "    References:                        http://gmao.gsfc.nasa.gov\n",
      "    ...                                ...\n",
      "    Contact:                           http://gmao.gsfc.nasa.gov\n",
      "    identifier_product_doi:            10.5067/2E096JV59PK7\n",
      "    RangeBeginningTime:                00:00:00.000000\n",
      "    RangeEndingTime:                   21:00:00.000000\n",
      "    DODS_EXTRA.Unlimited_Dimension:    time\n",
      "    history:                           2023-07-31 09:18:46 GMT Hyrax-1.16.3 h...\n"
     ]
    },
    {
     "name": "stderr",
     "output_type": "stream",
     "text": [
      "/sw/spack-levante/mambaforge-22.9.0-2-Linux-x86_64-kptncg/lib/python3.10/site-packages/xarray/core/indexing.py:1440: PerformanceWarning: Slicing is producing a large chunk. To accept the large\n",
      "chunk and silence this warning, set the option\n",
      "    >>> with dask.config.set(**{'array.slicing.split_large_chunks': False}):\n",
      "    ...     array[indexer]\n",
      "\n",
      "To avoid creating the large chunks, set the option\n",
      "    >>> with dask.config.set(**{'array.slicing.split_large_chunks': True}):\n",
      "    ...     array[indexer]\n",
      "  return self.array[key]\n"
     ]
    }
   ],
   "source": [
    "DS2 = Dataset(files=FILES1, setname = SETNAME1, dataloc = DATALOC1)\n",
    "with dask.config.set(**{'array.slicing.split_large_chunks': True}):\n",
    "    DS2 = Dataset(files=FILES1, setname = SETNAME1, dataloc = DATALOC1)\n",
    "    DS1 = Dataset(files=FILES2, setname = SETNAME2, dataloc = DATALOC2)\n",
    "\n",
    "init_rh_calc_vals(DS1)\n",
    "init_rh_calc_vals(DS2)"
   ]
  },
  {
   "cell_type": "code",
   "execution_count": 4,
   "id": "f417338f-899b-46c8-b95d-e0ec301ea89c",
   "metadata": {},
   "outputs": [
    {
     "name": "stdout",
     "output_type": "stream",
     "text": [
      "[########################################] | 100% Completed | 80.88 ss\n",
      "[########################################] | 100% Completed | 10m 30s\n",
      "<xarray.Dataset>\n",
      "Dimensions:   (time: 768, p: 37)\n",
      "Coordinates:\n",
      "  * time      (time) datetime64[ns] 1958-01-01 1958-02-01 ... 2021-12-01\n",
      "    lon       float64 -61.25\n",
      "    lat       float64 16.25\n",
      "  * p         (p) float64 1e+03 975.0 950.0 925.0 900.0 ... 7.0 5.0 3.0 2.0 1.0\n",
      "Data variables:\n",
      "    SH        (time, p) float32 0.01412 0.01375 0.01327 0.01243 ... nan nan nan\n",
      "    RH_model  (time, p) float32 0.7609 0.8176 0.8702 0.8813 ... nan nan nan nan\n",
      "    T         (time, p) float32 23.88 21.83 19.8 18.13 ... -28.96 -23.97 -13.58\n",
      "    RH_calc   (time, p) float64 0.7593 0.8166 0.8704 0.8813 ... nan nan nan nan\n",
      "Attributes:\n",
      "    CDI:          Climate Data Interface version 2.0.6 (https://mpimet.mpg.de...\n",
      "    Conventions:  CF-1.6\n",
      "    history:      Mon Jul 31 12:51:58 2023: cdo -f nc --eccodes copy anl_p125...\n",
      "    CDO:          Climate Data Operators version 2.0.6 (https://mpimet.mpg.de... <xarray.Dataset>\n",
      "Dimensions:   (p: 42, time: 522)\n",
      "Coordinates:\n",
      "    lat       float64 16.5\n",
      "  * p         (p) float64 1e+03 975.0 950.0 925.0 900.0 ... 0.7 0.5 0.4 0.3 0.1\n",
      "    lon       float64 -61.25\n",
      "  * time      (time) datetime64[ns] 1980-01-01 1980-02-01 ... 2023-06-01\n",
      "Data variables:\n",
      "    RH_model  (time, p) float32 0.7121 0.7717 0.8375 ... 5.494e-06 4.641e-05\n",
      "    T         (time, p) float32 23.92 21.76 19.64 17.66 ... -26.9 -32.96 -57.82\n",
      "    SH        (time, p) float32 0.01329 0.01294 0.01265 ... 4.288e-06 4.055e-06\n",
      "    RH_calc   (time, p) float64 0.713 0.7721 0.8382 0.8871 ... nan nan nan nan\n",
      "Attributes: (12/32)\n",
      "    History:                           Original file generated: Thu May  7 22...\n",
      "    Filename:                          MERRA2_100.instM_3d_asm_Np.198001.nc4\n",
      "    Comment:                           GMAO filename: d5124_m2_jan79.inst3_3d...\n",
      "    Conventions:                       CF-1\n",
      "    Institution:                       NASA Global Modeling and Assimilation ...\n",
      "    References:                        http://gmao.gsfc.nasa.gov\n",
      "    ...                                ...\n",
      "    Contact:                           http://gmao.gsfc.nasa.gov\n",
      "    identifier_product_doi:            10.5067/2E096JV59PK7\n",
      "    RangeBeginningTime:                00:00:00.000000\n",
      "    RangeEndingTime:                   21:00:00.000000\n",
      "    DODS_EXTRA.Unlimited_Dimension:    time\n",
      "    history:                           2023-07-31 09:18:46 GMT Hyrax-1.16.3 h...\n"
     ]
    },
    {
     "ename": "ValueError",
     "evalue": "Dataset.plot cannot be called directly. Use an explicit plot method, e.g. ds.plot.scatter(...)",
     "output_type": "error",
     "traceback": [
      "\u001b[0;31m---------------------------------------------------------------------------\u001b[0m",
      "\u001b[0;31mValueError\u001b[0m                                Traceback (most recent call last)",
      "Cell \u001b[0;32mIn[4], line 6\u001b[0m\n\u001b[1;32m      3\u001b[0m     DS2_point\u001b[38;5;241m=\u001b[39mdask\u001b[38;5;241m.\u001b[39mcompute(DS2\u001b[38;5;241m.\u001b[39mds\u001b[38;5;241m.\u001b[39msel(lon\u001b[38;5;241m=\u001b[39mlon,lat\u001b[38;5;241m=\u001b[39mlat,method\u001b[38;5;241m=\u001b[39m\u001b[38;5;124m'\u001b[39m\u001b[38;5;124mnearest\u001b[39m\u001b[38;5;124m'\u001b[39m))[\u001b[38;5;241m0\u001b[39m]\n\u001b[1;32m      4\u001b[0m \u001b[38;5;28mprint\u001b[39m(DS1_point,DS2_point)\n\u001b[0;32m----> 6\u001b[0m \u001b[43mDS1_point\u001b[49m\u001b[38;5;241;43m.\u001b[39;49m\u001b[43mplot\u001b[49m\u001b[43m(\u001b[49m\u001b[43m)\u001b[49m\n",
      "File \u001b[0;32m/sw/spack-levante/mambaforge-22.9.0-2-Linux-x86_64-kptncg/lib/python3.10/site-packages/xarray/plot/accessor.py:942\u001b[0m, in \u001b[0;36mDatasetPlotAccessor.__call__\u001b[0;34m(self, *args, **kwargs)\u001b[0m\n\u001b[1;32m    941\u001b[0m \u001b[38;5;28;01mdef\u001b[39;00m \u001b[38;5;21m__call__\u001b[39m(\u001b[38;5;28mself\u001b[39m, \u001b[38;5;241m*\u001b[39margs, \u001b[38;5;241m*\u001b[39m\u001b[38;5;241m*\u001b[39mkwargs) \u001b[38;5;241m-\u001b[39m\u001b[38;5;241m>\u001b[39m NoReturn:\n\u001b[0;32m--> 942\u001b[0m     \u001b[38;5;28;01mraise\u001b[39;00m \u001b[38;5;167;01mValueError\u001b[39;00m(\n\u001b[1;32m    943\u001b[0m         \u001b[38;5;124m\"\u001b[39m\u001b[38;5;124mDataset.plot cannot be called directly. Use \u001b[39m\u001b[38;5;124m\"\u001b[39m\n\u001b[1;32m    944\u001b[0m         \u001b[38;5;124m\"\u001b[39m\u001b[38;5;124man explicit plot method, e.g. ds.plot.scatter(...)\u001b[39m\u001b[38;5;124m\"\u001b[39m\n\u001b[1;32m    945\u001b[0m     )\n",
      "\u001b[0;31mValueError\u001b[0m: Dataset.plot cannot be called directly. Use an explicit plot method, e.g. ds.plot.scatter(...)"
     ]
    }
   ],
   "source": [
    "with ProgressBar():\n",
    "    DS1_point=dask.compute(DS1.ds.sel(lon=lon,lat=lat,method='nearest'))[0]\n",
    "    DS2_point=dask.compute(DS2.ds.sel(lon=lon,lat=lat,method='nearest'))[0]\n",
    "print(DS1_point,DS2_point)\n",
    "\n",
    "#DS1_point.plot()\n"
   ]
  },
  {
   "cell_type": "code",
   "execution_count": null,
   "id": "82cfc195-9aa4-42cb-8ec0-463886b9754c",
   "metadata": {},
   "outputs": [],
   "source": [
    "\n"
   ]
  },
  {
   "cell_type": "code",
   "execution_count": 5,
   "id": "1c76c308-46b2-413e-aa0b-b1a62bffbabe",
   "metadata": {},
   "outputs": [
    {
     "name": "stdout",
     "output_type": "stream",
     "text": [
      "[[101700.    520.]\n",
      " [100000.    590.]\n",
      " [ 85000.    920.]\n",
      " ...\n",
      " [  1720. -99999.]\n",
      " [  1620. -99999.]\n",
      " [  1090. -99999.]]\n"
     ]
    }
   ],
   "source": [
    "# Load Radiosonde\n",
    "d=np.loadtxt(\"./GPM00078897-drvd.txt\")\n",
    "#np.set_printoptions(threshold=)\n",
    "ds=d[:,[0,-8]]\n",
    "print(ds)"
   ]
  },
  {
   "cell_type": "code",
   "execution_count": 6,
   "id": "7d6316c6-1e01-42c8-bc2e-069a98e152d3",
   "metadata": {},
   "outputs": [],
   "source": [
    "def sort(data,ds,row):\n",
    "    \n",
    "    if row[1]==-99999:\n",
    "        #print(\"Nan\")\n",
    "        return data\n",
    "    \n",
    "    for plev in data:\n",
    "        #print('here',plev,plev[0],0.01*row[0])\n",
    "\n",
    "        if plev[0]==0.01*row[0]:\n",
    "            #print(\"insert\")\n",
    "            new=np.array([0.001*row[1]])\n",
    "            plev[1]=np.append(plev[1],new,axis=0)\n",
    "            plev[2]=plev[2]+1\n",
    "            return data\n",
    "            \n",
    "        elif plev[0]==data[-1,0]:\n",
    "            #print(\"new\")\n",
    "            new=np.array([[0.01*row[0],np.array([0.001*row[1]]),1]])\n",
    "            data=np.append(data,new,axis=0)\n",
    "            return data\n",
    "        \n",
    "\n"
   ]
  },
  {
   "cell_type": "code",
   "execution_count": 7,
   "id": "6a4adf23-4902-4aec-b17c-c68cf1273a7e",
   "metadata": {},
   "outputs": [
    {
     "name": "stdout",
     "output_type": "stream",
     "text": [
      "[[1017.0 array([0.52]) 1]]\n"
     ]
    },
    {
     "name": "stderr",
     "output_type": "stream",
     "text": [
      "/tmp/ipykernel_1237106/2671444058.py:4: VisibleDeprecationWarning: Creating an ndarray from ragged nested sequences (which is a list-or-tuple of lists-or-tuples-or ndarrays with different lengths or shapes) is deprecated. If you meant to do this, you must specify 'dtype=object' when creating the ndarray.\n",
      "  data=np.array([[0.01*row[0],np.array([0.001*row[1]]),1]])\n",
      "/tmp/ipykernel_1237106/1088086374.py:19: VisibleDeprecationWarning: Creating an ndarray from ragged nested sequences (which is a list-or-tuple of lists-or-tuples-or ndarrays with different lengths or shapes) is deprecated. If you meant to do this, you must specify 'dtype=object' when creating the ndarray.\n",
      "  new=np.array([[0.01*row[0],np.array([0.001*row[1]]),1]])\n"
     ]
    },
    {
     "name": "stdout",
     "output_type": "stream",
     "text": [
      "[[1017.0\n",
      "  array([0.52, 0.52, 0.56, 0.69, 0.76, 0.6 , 0.51, 0.62, 0.6 , 0.57, 0.6 ,\n",
      "         0.71, 0.62, 0.6 , 0.58, 0.83, 0.91, 0.88, 0.84, 0.65, 0.95, 0.66,\n",
      "         0.93, 0.92, 0.95, 0.72, 0.8 , 0.92, 0.88, 0.81, 0.7 , 0.65, 0.91,\n",
      "         0.67, 0.72, 1.  , 0.73, 0.96, 0.9 , 0.89, 0.78, 0.64, 0.78, 0.93,\n",
      "         0.89, 0.79, 0.68, 0.9 , 0.81, 0.91, 0.67, 0.84, 0.61, 0.9 , 0.9 ,\n",
      "         0.93, 0.83, 0.8 , 0.94, 0.97, 0.75, 0.63, 0.69, 0.87, 0.76, 0.87,\n",
      "         0.57, 0.89, 0.66, 0.6 , 0.76, 0.63, 0.91, 0.65, 0.94, 0.86, 0.93,\n",
      "         0.57, 0.91, 0.55, 0.84, 0.7 , 0.6 , 0.51, 0.87, 0.58, 0.84, 0.74,\n",
      "         0.57, 0.81, 0.84, 0.74, 0.91, 0.83, 0.9 , 0.79, 0.6 , 0.74, 0.84,\n",
      "         0.86, 0.77, 0.76, 0.74, 0.85, 0.88, 0.79, 0.88, 0.84, 0.82, 0.82,\n",
      "         0.78, 0.88, 0.96, 1.  , 0.83, 0.9 , 0.82, 0.96, 0.93, 0.89, 0.93,\n",
      "         0.86, 0.87, 0.78, 0.78, 0.86, 0.84, 0.82, 0.84, 0.83, 0.98, 0.87,\n",
      "         0.9 , 0.83, 0.95, 0.9 , 0.92, 0.83, 0.76, 0.77, 0.91, 0.83, 0.91,\n",
      "         0.75, 0.95, 0.91, 0.82, 0.76, 0.8 , 0.88, 0.79, 0.81, 0.79, 0.85,\n",
      "         0.83, 0.81, 0.72, 0.84, 0.76, 0.82, 0.86, 0.79, 0.79, 0.74, 0.78,\n",
      "         0.79, 0.84, 0.74, 0.77, 0.84, 0.84, 0.82, 0.84, 0.81, 0.8 , 0.88,\n",
      "         0.89, 0.75, 0.78, 0.75, 0.9 , 0.89, 0.77, 0.82, 0.66, 0.8 , 0.81,\n",
      "         0.92, 0.82, 0.72, 0.84, 0.77, 0.9 , 0.78, 0.85, 0.98, 0.88, 0.81,\n",
      "         0.79, 0.88, 0.89, 0.98, 0.94, 0.79, 0.93, 0.94, 0.89, 0.81, 0.78,\n",
      "         0.78, 0.79, 0.77, 0.77, 0.71, 0.74, 0.72, 0.93, 0.88, 0.92, 0.88,\n",
      "         0.84, 0.72, 0.78, 0.78, 0.91, 0.75, 0.85, 0.86, 0.9 , 0.91, 0.89,\n",
      "         0.77, 0.91, 0.91, 0.84, 0.79, 0.73, 0.89, 0.82, 0.93, 0.87, 0.92,\n",
      "         0.87, 0.9 , 0.84, 0.87, 0.8 , 0.72, 0.75, 0.76, 0.81, 0.73, 0.92,\n",
      "         0.65, 0.8 , 0.73, 0.85, 0.94, 0.92, 0.75, 0.76, 0.85, 0.73, 0.69,\n",
      "         0.77, 0.77, 0.78, 0.79, 0.71, 0.9 , 0.88, 0.78, 0.84, 0.74, 0.66,\n",
      "         0.67, 0.76, 0.79, 0.71, 0.71, 0.92, 0.88, 0.83, 0.71, 0.84, 0.88,\n",
      "         0.73, 0.78, 0.69, 0.79, 0.89, 0.91, 0.87, 0.85, 0.7 , 0.92, 0.76,\n",
      "         0.83, 0.71, 0.76, 0.77, 0.86, 0.89, 0.82, 0.76, 0.77, 0.8 , 0.8 ,\n",
      "         0.94, 0.74, 0.87, 0.87, 0.94, 0.87, 0.85, 0.73, 0.88, 0.91, 0.79,\n",
      "         0.72, 0.91, 0.74, 0.73, 0.86, 0.74, 0.77, 0.72, 0.65, 0.61, 0.76,\n",
      "         0.88, 0.84, 0.76, 0.76, 0.87, 0.82, 0.77, 0.82, 0.78, 0.77, 0.78,\n",
      "         0.77, 0.84, 0.92, 0.79, 0.96, 0.94, 0.76, 0.77, 0.74, 0.86, 0.88,\n",
      "         0.8 , 0.92, 0.82, 0.93, 0.91, 0.71, 0.86, 0.95, 0.84, 0.8 , 0.94,\n",
      "         0.8 , 0.81, 0.86, 0.92, 0.9 , 0.82, 0.73, 0.75, 0.66, 0.86, 0.96,\n",
      "         0.77, 0.77, 0.81, 0.78, 0.79, 0.74, 0.72, 0.76, 0.78, 0.71, 0.79,\n",
      "         0.79, 0.77, 0.78, 0.88, 0.87, 0.92, 0.76, 0.96, 0.95, 0.9 , 0.78,\n",
      "         0.89, 0.87, 0.91, 0.97, 0.96, 0.89, 0.85, 0.76, 0.88, 0.72, 0.68,\n",
      "         0.72, 0.77, 0.75, 0.75, 0.81, 0.83, 0.88, 0.79, 0.9 , 0.76, 0.78,\n",
      "         0.71, 0.66, 0.71, 0.74, 0.69, 0.74, 0.78, 0.73, 0.75, 0.77, 0.77,\n",
      "         0.89, 0.83, 0.84, 0.85, 0.76, 0.83, 0.8 , 0.85, 0.79, 0.76, 0.91,\n",
      "         0.9 , 0.89, 0.86, 0.84, 0.73, 0.87, 0.85, 0.76, 0.83, 0.76, 0.7 ,\n",
      "         0.72, 0.76, 0.65, 0.84, 0.79, 0.96, 0.82, 0.82, 0.86, 0.85, 0.72,\n",
      "         0.78, 0.78, 0.78, 0.81, 0.71, 0.75, 0.69, 0.88, 0.73, 0.8 , 0.78,\n",
      "         0.74, 0.77, 0.81, 0.85, 0.84, 0.74, 0.83, 0.96, 0.95, 0.97, 0.94,\n",
      "         0.76, 0.71, 0.94, 0.87, 0.91, 0.67, 0.8 , 0.7 , 0.77, 0.78, 0.79,\n",
      "         0.81, 0.79, 0.79, 0.85, 0.81, 0.84, 0.81, 0.78, 0.86, 0.77, 0.8 ,\n",
      "         0.8 , 0.81, 0.83, 0.87, 0.91, 0.81, 0.8 , 0.84, 0.76, 0.96, 0.92,\n",
      "         0.83, 0.96, 0.77, 0.88, 0.81, 0.79, 0.68, 0.82, 0.89, 0.83, 0.78,\n",
      "         0.78, 0.82, 0.75, 0.8 , 0.82, 0.85, 0.86, 0.82, 0.7 , 0.87, 0.75,\n",
      "         0.78, 0.85, 0.72, 0.73, 0.76, 0.76, 0.81, 0.81, 0.88, 0.78, 0.88,\n",
      "         0.85, 0.87, 0.89, 0.81, 0.9 , 0.8 , 0.91, 0.82, 0.87, 0.92, 0.9 ,\n",
      "         0.95, 0.8 , 0.92, 0.94, 0.92, 0.86, 0.91, 0.81, 0.9 , 0.9 , 0.77,\n",
      "         0.82, 0.78, 0.92, 0.74, 0.76, 0.78, 0.78, 0.68, 0.76, 0.95, 0.8 ,\n",
      "         0.86, 0.84, 0.79, 0.73, 0.75, 0.96, 0.77, 0.8 , 0.76, 0.68, 0.78,\n",
      "         0.74, 0.75, 0.82, 0.67, 0.82, 0.82, 0.79, 0.79, 0.67, 0.81, 0.78,\n",
      "         0.77, 0.77, 0.82, 0.83, 0.7 , 0.81, 0.83, 0.83, 0.89, 0.88, 0.85,\n",
      "         0.85, 0.89, 0.92, 0.76, 0.82, 0.74, 0.88, 0.76, 0.72, 0.73, 0.72,\n",
      "         0.66, 0.73, 0.71, 0.83, 0.77, 0.74, 0.85, 0.79, 0.82, 0.79, 0.82,\n",
      "         0.88, 0.86, 0.75])\n",
      "  641]\n",
      " [1000.0 array([0.59, 0.7 , 0.65, ..., 0.89, 0.92, 0.86]) 11563]\n",
      " [850.0 array([0.92, 0.87, 0.87, ..., 0.97, 0.97, 0.69]) 11579]\n",
      " ...\n",
      " [1017.5 array([0.89, 0.81, 0.76]) 3]\n",
      " [1017.4 array([0.7]) 1]\n",
      " [7.0 array([0.95]) 1]]\n"
     ]
    }
   ],
   "source": [
    "#Create new array\n",
    "\n",
    "row=ds[0]\n",
    "data=np.array([[0.01*row[0],np.array([0.001*row[1]]),1]])\n",
    "print(data)\n",
    "\n",
    "#Sort\n",
    "for row in ds:\n",
    "        \n",
    "        \n",
    "        \n",
    "        data=sort(data,ds,row)\n",
    "        #if len(data[:,])>10:\n",
    "        #    break\n",
    "\n",
    "            \n",
    "print(data)           "
   ]
  },
  {
   "cell_type": "code",
   "execution_count": 8,
   "id": "8dd160c3-a94e-40ca-a947-691f5076db89",
   "metadata": {},
   "outputs": [
    {
     "name": "stdout",
     "output_type": "stream",
     "text": [
      "[[1023.0 array([0.73]) 1]\n",
      " [1022.0 array([0.69]) 1]\n",
      " [1021.0 array([0.88, 0.91, 0.94, 0.85, 0.61, 0.8 , 0.61]) 7]\n",
      " ...\n",
      " [20.0 array([0.]) 1]\n",
      " [12.0 array([0.]) 1]\n",
      " [7.0 array([0.95]) 1]]\n"
     ]
    }
   ],
   "source": [
    "sorted_indices = np.argsort(-data[:, 0])\n",
    "\n",
    "# Use the indices to reorder the array\n",
    "data = data[sorted_indices]\n",
    "\n",
    "print(data)"
   ]
  },
  {
   "cell_type": "code",
   "execution_count": 9,
   "id": "aa1cf46c-972b-44e7-bf25-926fa94a3730",
   "metadata": {},
   "outputs": [],
   "source": [
    "\n",
    "\n",
    "p = data[:,0]\n",
    "means=np.array([np.mean(arr) for arr in data[:,1]])\n",
    "stds=np.array([np.std(arr) for arr in data[:,1]])\n",
    "\n",
    "\n",
    "mask = np.array([d >= 50 for d in data[:,2]])\n",
    "\n",
    "#print(data_mean)"
   ]
  },
  {
   "cell_type": "code",
   "execution_count": null,
   "id": "c712e4bf-6199-4b2d-ba4b-42b6e4ce75d7",
   "metadata": {},
   "outputs": [],
   "source": []
  },
  {
   "cell_type": "code",
   "execution_count": 10,
   "id": "e5c10572-b225-4934-be1b-7ec5c28abbd7",
   "metadata": {},
   "outputs": [
    {
     "name": "stdout",
     "output_type": "stream",
     "text": [
      "dsdfs\n"
     ]
    },
    {
     "data": {
      "image/png": "[encoded data removed]",
      "text/plain": [
       "<Figure size 640x480 with 1 Axes>"
      ]
     },
     "metadata": {},
     "output_type": "display_data"
    }
   ],
   "source": [
    "fig, ax = plt.subplots()\n",
    "\n",
    "\n",
    "\n",
    "Rh1=DS1_point.sel(time=slice(t1,t2)).mean(('time'))\n",
    "Rh2=DS2_point.sel(time=slice(t1,t2)).mean(('time'))\n",
    "print(\"dsdfs\")\n",
    "Rh1.RH_model.plot(y='p',yincrease=False, label = 'RH-model - '+DS1.setname)\n",
    "Rh2.RH_model.plot(y='p',yincrease=False, label = 'RH-model - '+DS2.setname)      \n",
    "Rh1.RH_calc.plot(y='p',yincrease=False, label = 'RH-calc - '+DS1.setname)\n",
    "Rh2.RH_calc.plot(y='p',yincrease=False, label = 'RH-calc - '+DS2.setname)      \n",
    "\n",
    "ax.plot(means[mask],p[mask],label=\"IGRA\")\n",
    "\n",
    "\n",
    "\n",
    "#ax.set_yscale('log')\n",
    "#ax.set_title('Zonal mean Temperature in different heights p')\n",
    "ax.legend()\n",
    "plt.savefig('Mean_RH_all.png',dpi=400)\n",
    "plt.show()\n",
    "\n"
   ]
  },
  {
   "cell_type": "code",
   "execution_count": null,
   "id": "16410b15-5eec-41c7-9002-8633f7ec386a",
   "metadata": {},
   "outputs": [],
   "source": []
  },
  {
   "cell_type": "code",
   "execution_count": null,
   "id": "3c12679e-51ae-493e-9c1d-57d5ed5cb176",
   "metadata": {},
   "outputs": [],
   "source": []
  },
  {
   "cell_type": "code",
   "execution_count": null,
   "id": "01924eab-56bf-4f45-be7c-58d9fcc2f4ba",
   "metadata": {},
   "outputs": [],
   "source": []
  }
 ],
 "metadata": {
  "kernelspec": {
   "display_name": "konrad",
   "language": "python",
   "name": "my-kernel"
  },
  "language_info": {
   "codemirror_mode": {
    "name": "ipython",
    "version": 3
   },
   "file_extension": ".py",
   "mimetype": "text/x-python",
   "name": "python",
   "nbconvert_exporter": "python",
   "pygments_lexer": "ipython3",
   "version": "3.10.10"
  }
 },
 "nbformat": 4,
 "nbformat_minor": 5
}
